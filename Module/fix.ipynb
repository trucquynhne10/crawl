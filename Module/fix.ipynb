{
 "cells": [
  {
   "cell_type": "code",
   "execution_count": null,
   "metadata": {},
   "outputs": [
    {
     "name": "stdout",
     "output_type": "stream",
     "text": [
      "radar_100.py\n",
      "radar_101.py\n",
      "radar_102.py\n",
      "radar_103.py\n",
      "radar_104.py\n",
      "radar_105.py\n",
      "radar_106.py\n",
      "radar_107.py\n"
     ]
    }
   ],
   "source": [
    "import os\n",
    "import subprocess\n",
    "import pandas as pd\n",
    "\n",
    "# Đọc dữ liệu từ file JSON\n",
    "name = \"radar\"\n",
    "files_not_executed = pd.read_json(fr'D:\\Project\\NCKH\\Module\\errorList\\{name}\\{name}_2.json')\n",
    "\n",
    "# Giả sử tên cột trong DataFrame là 'file_name'\n",
    "for file_name in files_not_executed[0]:  # Truy xuất giá trị từ cột file_name\n",
    "    print(file_name)\n",
    "    file_path = os.path.join(fr\"D:\\Project\\NCKH\\ChartX\\ChartX\\{name}\\code_using_api\\{file_name}\")  \n",
    "    subprocess.run(['notepad.exe', file_path])  \n"
   ]
  },
  {
   "cell_type": "code",
   "execution_count": null,
   "metadata": {},
   "outputs": [],
   "source": [
    "!python step3CreatePicture.py 2"
   ]
  },
  {
   "cell_type": "code",
   "execution_count": null,
   "metadata": {},
   "outputs": [],
   "source": [
    "import numpy as np\n",
    "import matplotlib.pyplot as plt\n",
    "\n",
    "# Chuyển đổi dữ liệu đã cho thành các biến\n",
    "ten_thanh_pho = np.array([\"Paris\", \"London\", \"New York\", \"Tokyo\", \"Barcelona\"])\n",
    "tieu_chi = np.array([\"Điểm tham quan du lịch\", \"Chất lượng chỗ ở\", \"Ẩm thực địa phương\", \"An ninh\", \"Dịch vụ khách hàng\"])\n",
    "du_lieu = np.array([[90, 85, 80, 95, 88], [85, 80, 95, 90, 85], [80, 85, 90, 75, 90], [95, 90, 85, 100, 80], [90, 95, 85, 90, 85]])\n",
    "\n",
    "# Tạo hình và subplot\n",
    "fig = plt.figure(figsize=(10, 10))\n",
    "ax = fig.add_subplot(111, polar=True)\n",
    "\n",
    "# Thiết lập các góc cho biểu đồ radar\n",
    "goc = np.linspace(0, 2 * np.pi, len(ten_thanh_pho) + 1, endpoint=True)\n",
    "\n",
    "# Thêm phần tử số đầu tiên của mỗi hàng vào cuối để vẽ vòng kín\n",
    "du_lieu = np.concatenate((du_lieu, du_lieu[:, 0:1]), axis=1)\n",
    "\n",
    "# Vẽ biểu đồ radar cho mỗi hàng trong dữ liệu\n",
    "for i in range(len(tieu_chi)):\n",
    "    ax.plot(goc, du_lieu[i], marker=\"o\", label=tieu_chi[i])\n",
    "\n",
    "# Thiết lập nhãn trục\n",
    "ax.set_thetagrids(goc[:-1] * 180/np.pi, ten_thanh_pho)\n",
    "\n",
    "# Thiết lập giới hạn bán kính để chứa giá trị tối đa của dữ liệu\n",
    "ax.set_ylim(0, np.max(du_lieu))\n",
    "gia_tri_toi_da = np.amax(du_lieu)\n",
    "buoc_nhay = gia_tri_toi_da / len(du_lieu)\n",
    "ax.set_rgrids([buoc_nhay * i for i in range(1, len(du_lieu) + 1)], labels=[f'{buoc_nhay * i:.1f}' for i in range(1, len(du_lieu) + 1)], angle=0)\n",
    "\n",
    "# Tạo chú thích\n",
    "handles, labels = ax.get_legend_handles_labels()\n",
    "ax.legend(handles, tieu_chi, loc=\"upper left\")\n",
    "\n",
    "# Thiết lập tiêu đề\n",
    "plt.title(\"Phân tích Du lịch và Khách sạn Toàn cầu\")\n",
    "\n",
    "# Điều chỉnh bố cục và lưu ảnh\n",
    "plt.tight_layout()\n",
    "plt.savefig(r\"D:\\Project\\NCKH\\Module\\image\\radar\\radar_103.png\") #Đổi tên file lưu\n",
    "\n",
    "# Xóa trạng thái ảnh hiện tại\n",
    "plt.clf()\n",
    " \n"
   ]
  }
 ],
 "metadata": {
  "kernelspec": {
   "display_name": "myenv_py311",
   "language": "python",
   "name": "python3"
  },
  "language_info": {
   "codemirror_mode": {
    "name": "ipython",
    "version": 3
   },
   "file_extension": ".py",
   "mimetype": "text/x-python",
   "name": "python",
   "nbconvert_exporter": "python",
   "pygments_lexer": "ipython3",
   "version": "3.11.10"
  }
 },
 "nbformat": 4,
 "nbformat_minor": 2
}
